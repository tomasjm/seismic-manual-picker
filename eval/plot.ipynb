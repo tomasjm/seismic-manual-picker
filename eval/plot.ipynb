{
 "cells": [
  {
   "cell_type": "code",
   "execution_count": null,
   "metadata": {},
   "outputs": [],
   "source": [
    "from obspy import read\n",
    "import matplotlib.pyplot as plt\n",
    "from obspy import UTCDateTime, timedelta\n",
    "import pandas as pd\n",
    "import os\n",
    "\n",
    "df = pd.read_csv('s03_etiquetado.csv')\n",
    "# carpeta donde estan los MSEED\n",
    "path_to_merge = \"./S03/\"\n",
    "for _, row in df.iterrows():\n",
    "    st = read(os.path.join(path_to_merge, row['file']))\n",
    "    st.filter(\"bandpass\", freqmin=1, freqmax=10)\n",
    "    st_s = st.slice(starttime=UTCDateTime(pd.to_datetime(row['p_wave_in_utc_time'])-timedelta(seconds=10)), endtime=UTCDateTime(pd.to_datetime(row['p_wave_in_utc_time']) + timedelta(seconds=10)))\n",
    "    \n",
    "    fig, ax = plt.subplots(figsize=(8, 2.5))\n",
    "    ax.plot(st_s[0].times(), st_s[0].data, 'k', linewidth=0.5)\n",
    "    ax.axvline(x=10, color='r', linestyle='--', alpha=0.5)\n",
    "    plt.show()\n",
    "   \n",
    "\n"
   ]
  }
 ],
 "metadata": {
  "language_info": {
   "name": "python"
  }
 },
 "nbformat": 4,
 "nbformat_minor": 2
}
